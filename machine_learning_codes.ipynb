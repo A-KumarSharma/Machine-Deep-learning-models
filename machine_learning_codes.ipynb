{
  "nbformat": 4,
  "nbformat_minor": 0,
  "metadata": {
    "colab": {
      "provenance": []
    },
    "kernelspec": {
      "name": "python3",
      "display_name": "Python 3"
    },
    "language_info": {
      "name": "python"
    }
  },
  "cells": [
    {
      "cell_type": "code",
      "source": [
        "#DSA\n",
        "\n",
        "#Memory management, time management\n",
        "\n",
        "#Perdict Salary\n",
        "\n",
        "import pandas as pd\n",
        "\n",
        "import numpy as np\n",
        "import seaborn as sb\n",
        "\n",
        "import matplotlib.pyplot as plt\n",
        "from sklearn.linear_model import LinearRegression\n",
        "\n",
        "df = pd.DataFrame ({'age': [12, 15,17,20,25, 26, 30], 'weight' :[40, 45, 51,66,70,82,37], 'Salary':[ 17000, 12000, 14000, 15000, 16000,17000,18000]})\n",
        "reg=LinearRegression()\n",
        "\n",
        "# Prepare the features (X) and target variable (y)\n",
        "X = df[['age', 'weight']]\n",
        "y = df['Salary']\n",
        "\n",
        "# Fit the model to the data\n",
        "reg.fit(X, y)  # Train the model\n",
        "\n",
        "# Now you can make predictions\n",
        "prediction = reg.predict([[1255, 6077]])\n",
        "print(prediction)\n",
        "\n",
        "reg.intercept_    #-C\n",
        "reg.coef_ # Slope\n",
        "\n",
        "# Note: 'lmplot' expects the DataFrame name, not a string\n",
        "sb.lmplot(x='age', y='Salary', data=df)\n",
        "plt.show()"
      ],
      "metadata": {
        "colab": {
          "base_uri": "https://localhost:8080/",
          "height": 580
        },
        "id": "P28lQibwFH9H",
        "outputId": "e841c057-361c-4491-ec93-ec538decfc21"
      },
      "execution_count": 1,
      "outputs": [
        {
          "output_type": "stream",
          "name": "stderr",
          "text": [
            "/usr/local/lib/python3.10/dist-packages/sklearn/base.py:465: UserWarning: X does not have valid feature names, but LinearRegression was fitted with feature names\n",
            "  warnings.warn(\n"
          ]
        },
        {
          "output_type": "stream",
          "name": "stdout",
          "text": [
            "[152237.62972202]\n"
          ]
        },
        {
          "output_type": "display_data",
          "data": {
            "text/plain": [
              "<Figure size 500x500 with 1 Axes>"
            ],
            "image/png": "[encoded data removed]"
          },
          "metadata": {}
        }
      ]
    },
    {
      "cell_type": "code",
      "source": [
        "#Cured (point to point straight move) using polynomial\n",
        "\n",
        "import numpy as np\n",
        "\n",
        "import matplotlib.pyplot as plt\n",
        "\n",
        "import pandas as pd\n",
        "import seaborn as sb\n",
        "\n",
        "from sklearn.linear_model import LinearRegression\n",
        "\n",
        "from sklearn.preprocessing import PolynomialFeatures\n",
        "\n",
        "import pandas as pd\n",
        "import seaborn as sns\n",
        "import matplotlib.pyplot as plt\n",
        "from sklearn.linear_model import LinearRegression\n",
        "\n",
        "df = pd.DataFrame({'Experience Level': [1, 2, 3, 4, 5, 6, 7, 8, 9, 10],\n",
        "                   'Salary': [45000, 50000, 60000, 80000, 110000, 150000, 200000, 300000, 500000, 1000000]})\n",
        "# Create polynomial features\n",
        "poly = PolynomialFeatures(degree=2)  # Adjust the degree as needed\n",
        "x_poly = poly.fit_transform(df[['Experience Level']])\n",
        "\n",
        "# Fit the polynomial regression model\n",
        "poly_reg = LinearRegression()\n",
        "poly_reg.fit(x_poly, df['Salary'])\n",
        "prediction = poly_reg.predict(poly.transform([[5]]))\n",
        "print(prediction)\n",
        "\n",
        "poly_reg.intercept_\n",
        "poly_reg.coef_"
      ],
      "metadata": {
        "colab": {
          "base_uri": "https://localhost:8080/"
        },
        "id": "UB1GFQU7FIAA",
        "outputId": "0a33f8ba-7314-4fb5-9d3b-25d8c90c55ac"
      },
      "execution_count": 2,
      "outputs": [
        {
          "output_type": "stream",
          "name": "stdout",
          "text": [
            "[53606.06060606]\n"
          ]
        },
        {
          "output_type": "stream",
          "name": "stderr",
          "text": [
            "/usr/local/lib/python3.10/dist-packages/sklearn/base.py:465: UserWarning: X does not have valid feature names, but PolynomialFeatures was fitted with feature names\n",
            "  warnings.warn(\n"
          ]
        },
        {
          "output_type": "execute_result",
          "data": {
            "text/plain": [
              "array([      0.        , -132871.21212121,   19431.81818182])"
            ]
          },
          "metadata": {},
          "execution_count": 2
        }
      ]
    },
    {
      "cell_type": "code",
      "source": [
        "#logistic regression\n",
        "\n",
        "\n",
        "import pandas as pd\n",
        "import matplotlib.pyplot as plt\n",
        "from sklearn.model_selection import train_test_split\n",
        "from sklearn.preprocessing import LabelEncoder\n",
        "from sklearn.linear_model import LogisticRegression\n",
        "\n",
        "# Create a DataFrame\n",
        "df = pd.DataFrame({\n",
        "    'age': [19, 45, 39, 11, 19, 59, 32, 121, 312],\n",
        "    'insurance': ['yes', 'no', 'yes', 'no', 'yes', 'no', 'yes', 'no', 'yes']\n",
        "})\n",
        "\n",
        "# Plot a scatter plot\n",
        "plt.scatter(df['age'], df['insurance'])\n",
        "plt.xlabel('Age')\n",
        "plt.ylabel('Insurance')\n",
        "plt.show()\n",
        "\n",
        "# Encode the 'insurance' column\n",
        "le = LabelEncoder()\n",
        "df['insurance'] = le.fit_transform(df['insurance'])\n",
        "\n",
        "# Split the data into training and testing sets\n",
        "X = df[['age']]\n",
        "y = df['insurance']\n",
        "X_train, X_test, y_train, y_test = train_test_split(X, y, test_size=0.2, random_state=42)\n",
        "\n",
        "# Create a logistic regression model\n",
        "model = LogisticRegression()\n",
        "model.fit(X_train, y_train)\n",
        "\n",
        "# Make predictions and evaluate the model\n",
        "predictions = model.predict(X_test)\n",
        "score = model.score(X_test, y_test)\n",
        "print(f\"Accuracy: {score:.2f}\")\n"
      ],
      "metadata": {
        "colab": {
          "base_uri": "https://localhost:8080/",
          "height": 467
        },
        "id": "VTRCSuyZFIDW",
        "outputId": "122286fc-ef39-4700-87d2-850e5d93dc19"
      },
      "execution_count": 3,
      "outputs": [
        {
          "output_type": "display_data",
          "data": {
            "text/plain": [
              "<Figure size 640x480 with 1 Axes>"
            ],
            "image/png": "[encoded data removed]"
          },
          "metadata": {}
        },
        {
          "output_type": "stream",
          "name": "stdout",
          "text": [
            "Accuracy: 0.00\n"
          ]
        }
      ]
    },
    {
      "cell_type": "code",
      "source": [
        "#decision tree classifier\n",
        "\n",
        "\n",
        "import pandas as pd\n",
        "from sklearn.model_selection import train_test_split\n",
        "from sklearn.preprocessing import LabelEncoder\n",
        "from sklearn.tree import DecisionTreeClassifier\n",
        "\n",
        "# Load the dataset\n",
        "df = pd.read_csv('play_tennis.csv')\n",
        "\n",
        "# Encode categorical variables\n",
        "le = LabelEncoder()\n",
        "df['Outlook'] = le.fit_transform(df['Outlook'])\n",
        "df['Wind'] = le.fit_transform(df['Wind'])\n",
        "df['Play Tennis'] = le.fit_transform(df['Play Tennis'])\n",
        "\n",
        "# Define features (X) and target (y)\n",
        "X = df[['Outlook', 'Temperature', 'Humidity', 'Wind']]\n",
        "y = df['Play Tennis']\n",
        "\n",
        "# Split data into training and testing sets\n",
        "X_train, X_test, y_train, y_test = train_test_split(X, y, test_size=0.2, random_state=42)\n",
        "\n",
        "# Create a decision tree classifier\n",
        "dtc = DecisionTreeClassifier(criterion='gini')\n",
        "\n",
        "# Train the model\n",
        "dtc.fit(X_train, y_train)\n",
        "\n",
        "# Evaluate the model\n",
        "accuracy = dtc.score(X_test, y_test)\n",
        "print(f\"Accuracy: {accuracy:.2f}\")\n"
      ],
      "metadata": {
        "id": "TkIDpywoFIE2"
      },
      "execution_count": null,
      "outputs": []
    },
    {
      "cell_type": "code",
      "source": [
        "#Here's a Python code snippet to create a confusion matrix:\n",
        "\n",
        "\n",
        "import numpy as np\n",
        "from sklearn.metrics import confusion_matrix\n",
        "\n",
        "# Define the actual and predicted labels\n",
        "actual = [1, 0, 1, 1, 0, 1, 0, 1, 0, 1]\n",
        "predicted = [1, 0, 0, 1, 0, 1, 1, 1, 0, 1]\n",
        "\n",
        "# Create the confusion matrix\n",
        "cm = confusion_matrix(actual, predicted)\n",
        "\n",
        "# Print the confusion matrix\n",
        "print(\"Confusion Matrix:\")\n",
        "print(cm)\n",
        "\n",
        "# Label the axes\n",
        "print(\"\\n  Predicted\")\n",
        "print(\"       0    1\")\n",
        "print(\"A 0  TN   FP\")\n",
        "print(\"c 1  FN   TP\")\n",
        "\n",
        "\n",
        "."
      ],
      "metadata": {
        "id": "HFIm6Ub_FIHc"
      },
      "execution_count": null,
      "outputs": []
    },
    {
      "cell_type": "code",
      "source": [
        "#It seems like you're trying to create a confusion matrix and calculate evaluation metrics for a classification model. Here's a Python code snippet that should help:\n",
        "\n",
        "\n",
        "import numpy as np\n",
        "\n",
        "# Define the confusion matrix\n",
        "TP = 90  # True Positives\n",
        "FP = 5   # False Positives\n",
        "FN = 3   # False Negatives\n",
        "TN = 2   # True Negatives\n",
        "\n",
        "# Create the confusion matrix\n",
        "conf_matrix = np.array([[TN, FP], [FN, TP]])\n",
        "\n",
        "# Calculate evaluation metrics\n",
        "accuracy = (TP + TN) / (TP + TN + FP + FN)\n",
        "precision = TP / (TP + FP)\n",
        "recall = TP / (TP + FN)\n",
        "f1_score = 2 * (precision * recall) / (precision + recall)\n",
        "\n",
        "print(\"Confusion Matrix:\")\n",
        "print(conf_matrix)\n",
        "print(\"\\nEvaluation Metrics:\")\n",
        "print(f\"Accuracy: {accuracy:.2f}\")\n",
        "print(f\"Precision: {precision:.2f}\")\n",
        "print(f\"Recall: {recall:.2f}\")\n",
        "print(f\"F1 Score: {f1_score:.2f}\")\n",
        "\n",
        "\n",
        "#This code creates a confusion matrix and calculates accuracy, precision, recall, and F1 score for a classification model. You can replace the values of TP, FP, FN, and TN with your own data to get the desired output."
      ],
      "metadata": {
        "id": "VTkkUg2VFIJu"
      },
      "execution_count": null,
      "outputs": []
    },
    {
      "cell_type": "code",
      "source": [
        "#random forest classifier\n",
        "\n",
        "\n",
        "import pandas as pd\n",
        "from sklearn.model_selection import train_test_split\n",
        "from sklearn.preprocessing import LabelEncoder\n",
        "from sklearn.ensemble import RandomForestClassifier\n",
        "from sklearn.metrics import accuracy_score, confusion_matrix\n",
        "\n",
        "# Load the dataset\n",
        "df = pd.read_csv('your_data.csv')\n",
        "\n",
        "# Encode categorical variables\n",
        "le = LabelEncoder()\n",
        "df['spréis'] = le.fit_transform(df['spréis'])\n",
        "\n",
        "# Define features (X) and target (y)\n",
        "X = df.drop('spréis', axis=1)\n",
        "y = df['spréis']\n",
        "\n",
        "# Split data into training and testing sets\n",
        "X_train, X_test, y_train, y_test = train_test_split(X, y, test_size=0.2, random_state=42)\n",
        "\n",
        "# Create a random forest classifier\n",
        "rfc = RandomForestClassifier(n_estimators=100, criterion='gini')\n",
        "\n",
        "# Train the model\n",
        "rfc.fit(X_train, y_train)\n",
        "\n",
        "# Make predictions\n",
        "y_pred = rfc.predict(X_test)\n",
        "\n",
        "# Evaluate the model\n",
        "accuracy = accuracy_score(y_test, y_pred)\n",
        "print(f\"Accuracy: {accuracy:.2f}\")\n",
        "\n",
        "# Print the confusion matrix\n",
        "cm = confusion_matrix(y_test, y_pred)\n",
        "print(\"Confusion Matrix:\")\n",
        "print(cm)\n"
      ],
      "metadata": {
        "id": "jkSOgPK7FINE"
      },
      "execution_count": null,
      "outputs": []
    },
    {
      "cell_type": "code",
      "source": [
        "#naive bayes\n",
        "\n",
        "import pandas as pd\n",
        "from sklearn.model_selection import train_test_split\n",
        "from sklearn.naive_bayes import GaussianNB\n",
        "\n",
        "# Load the dataset\n",
        "df = pd.read_csv(\"social_Network.csv\")\n",
        "\n",
        "# Define features (X) and target (y)\n",
        "X = df.drop('target', axis=1)  # Replace 'target' with your actual target column name\n",
        "y = df['target']\n",
        "\n",
        "# Split data into training and testing sets\n",
        "X_train, X_test, y_train, y_test = train_test_split(X, y, test_size=0.2, random_state=42)\n",
        "\n",
        "# Create a Gaussian Naive Bayes classifier\n",
        "gnb = GaussianNB()\n",
        "\n",
        "# Train the model\n",
        "gnb.fit(X_train, y_train)\n",
        "\n",
        "# Make predictions\n",
        "y_pred = gnb.predict(X_test)\n",
        "\n",
        "# Evaluate the model\n",
        "accuracy = gnb.score(X_test, y_test)\n",
        "print(f\"Accuracy: {accuracy:.2f}\")\n",
        "\n",
        "\n",
        "#This code assumes that your dataset is in a CSV file named \"social_Network.csv\" and has a target variable. It splits the data into training and testing sets, trains a Gaussian Naive Bayes classifier, makes predictions, and evaluates the model's accuracy. Replace 'target' with your actual target column name."
      ],
      "metadata": {
        "id": "N1-QfEE6FIR3"
      },
      "execution_count": null,
      "outputs": []
    },
    {
      "cell_type": "code",
      "source": [
        "#support vector machine\n",
        "\n",
        "\n",
        "import pandas as pd\n",
        "from sklearn import svm\n",
        "from sklearn.model_selection import train_test_split\n",
        "from sklearn.preprocessing import LabelEncoder\n",
        "\n",
        "# Load the dataset\n",
        "df = pd.read_csv('your_data.csv')\n",
        "\n",
        "# Encode categorical variables\n",
        "le = LabelEncoder()\n",
        "df['your_categorical_column'] = le.fit_transform(df['your_categorical_column'])\n",
        "\n",
        "# Define features (X) and target (y)\n",
        "X = df.drop('your_target_column', axis=1)\n",
        "y = df['your_target_column']\n",
        "\n",
        "# Split data into training and testing sets\n",
        "X_train, X_test, y_train, y_test = train_test_split(X, y, test_size=0.2, random_state=42)\n",
        "\n",
        "# Create a Support Vector Machine classifier with a linear kernel\n",
        "svc = svm.SVC(kernel='linear')\n",
        "\n",
        "# Train the model\n",
        "svc.fit(X_train, y_train)\n",
        "\n",
        "# Make predictions\n",
        "y_pred = svc.predict(X_test)\n",
        "\n",
        "# Evaluate the model\n",
        "accuracy = svc.score(X_test, y_test)\n",
        "print(f\"Accuracy: {accuracy:.2f}\")\n",
        "\n",
        "\n",
        "#This code assumes that your dataset is in a CSV file named \"your_data.csv\" and has a target variable. It encodes categorical variables, splits the data into training and testing sets, trains a Support Vector Machine classifier with a linear kernel, makes predictions, and evaluates the model's accuracy. Replace 'your_categorical_column' and 'your_target_column' with your actual column names."
      ],
      "metadata": {
        "id": "eJVaYD9wFIad"
      },
      "execution_count": null,
      "outputs": []
    },
    {
      "cell_type": "code",
      "source": [
        "#KneighborsClassifier\n",
        "\n",
        "\n",
        "from sklearn.datasets import load_iris\n",
        "from sklearn.model_selection import train_test_split\n",
        "from sklearn.neighbors import KNeighborsClassifier\n",
        "\n",
        "# Load the iris dataset\n",
        "iris = load_iris()\n",
        "X = iris.data\n",
        "y = iris.target\n",
        "\n",
        "# Split data into training and testing sets\n",
        "X_train, X_test, y_train, y_test = train_test_split(X, y, test_size=0.2, random_state=42)\n",
        "\n",
        "# Create a K-Nearest Neighbors classifier with 7 neighbors\n",
        "knn = KNeighborsClassifier(n_neighbors=7)\n",
        "\n",
        "# Train the model\n",
        "knn.fit(X_train, y_train)\n",
        "\n",
        "# Make predictions\n",
        "y_pred = knn.predict(X_test)\n",
        "\n",
        "# Evaluate the model\n",
        "accuracy = knn.score(X_test, y_test)\n",
        "print(f\"Accuracy: {accuracy:.2f}\")\n",
        "\n",
        "\n",
        "#This code loads the iris dataset, splits it into training and testing sets, trains a K-Nearest Neighbors classifier with 7 neighbors, makes predictions, and evaluates the model's accuracy."
      ],
      "metadata": {
        "id": "ZbYBywAYFvRE"
      },
      "execution_count": null,
      "outputs": []
    }
  ]
}